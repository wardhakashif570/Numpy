{
  "nbformat": 4,
  "nbformat_minor": 0,
  "metadata": {
    "colab": {
      "name": "Numpy(Numerical Python).ipynb",
      "provenance": []
    },
    "kernelspec": {
      "name": "python3",
      "display_name": "Python 3"
    },
    "language_info": {
      "name": "python"
    }
  },
  "cells": [
    {
      "cell_type": "code",
      "metadata": {
        "id": "cu9GMsr_Ig4o"
      },
      "source": [
        "import numpy as np"
      ],
      "execution_count": 2,
      "outputs": []
    },
    {
      "cell_type": "markdown",
      "metadata": {
        "id": "y8kGJapNO9T6"
      },
      "source": [
        "List vs Numpy Time-Taken"
      ]
    },
    {
      "cell_type": "code",
      "metadata": {
        "id": "zbcHDjnTPCp3"
      },
      "source": [
        "from time import process_time"
      ],
      "execution_count": 3,
      "outputs": []
    },
    {
      "cell_type": "markdown",
      "metadata": {
        "id": "qmBrXjygPPnh"
      },
      "source": [
        "Time taken by List"
      ]
    },
    {
      "cell_type": "code",
      "metadata": {
        "colab": {
          "base_uri": "https://localhost:8080/"
        },
        "id": "2328cq0YPRfq",
        "outputId": "46400e46-9a2d-4222-ad78-16ca472c59e6"
      },
      "source": [
        "python_list=[i for i in range(10000)]\n",
        "\n",
        "start_time=process_time()\n",
        "\n",
        "python_list=[i+5 for  i in python_list]\n",
        "\n",
        "end_time=process_time()\n",
        "\n",
        "print( end_time - start_time)"
      ],
      "execution_count": 4,
      "outputs": [
        {
          "output_type": "stream",
          "text": [
            "0.0015344340000000845\n"
          ],
          "name": "stdout"
        }
      ]
    },
    {
      "cell_type": "code",
      "metadata": {
        "colab": {
          "base_uri": "https://localhost:8080/"
        },
        "id": "aj1ustTvSxpc",
        "outputId": "b9ba5be4-7d51-4a82-f526-8fafdecb2900"
      },
      "source": [
        "np_array=np.array([i for i in range(10000)])\n",
        "\n",
        "start_time=process_time()\n",
        "\n",
        "np_array += 5\n",
        "\n",
        "end_time=process_time()\n",
        "\n",
        "print( end_time - start_time)"
      ],
      "execution_count": 5,
      "outputs": [
        {
          "output_type": "stream",
          "text": [
            "0.00027202100000001117\n"
          ],
          "name": "stdout"
        }
      ]
    },
    {
      "cell_type": "code",
      "metadata": {
        "id": "47izKEqDqYg0"
      },
      "source": [
        ""
      ],
      "execution_count": 5,
      "outputs": []
    },
    {
      "cell_type": "markdown",
      "metadata": {
        "id": "5YUvuJUWYF1-"
      },
      "source": [
        "Numpy **Arrays**"
      ]
    },
    {
      "cell_type": "code",
      "metadata": {
        "id": "tz--T38sYNh_",
        "colab": {
          "base_uri": "https://localhost:8080/"
        },
        "outputId": "0f52ae9f-11c8-48de-a123-aa90ec17e346"
      },
      "source": [
        "list1=[1,2,3,4,5]\n",
        "print(list1)\n",
        "type(list1)"
      ],
      "execution_count": 6,
      "outputs": [
        {
          "output_type": "stream",
          "text": [
            "[1, 2, 3, 4, 5]\n"
          ],
          "name": "stdout"
        },
        {
          "output_type": "execute_result",
          "data": {
            "text/plain": [
              "list"
            ]
          },
          "metadata": {
            "tags": []
          },
          "execution_count": 6
        }
      ]
    },
    {
      "cell_type": "code",
      "metadata": {
        "id": "t5fT2sbcY5Cl",
        "colab": {
          "base_uri": "https://localhost:8080/"
        },
        "outputId": "99c9c882-dc6a-4165-cab0-db956c7afa39"
      },
      "source": [
        "np_array=np.array([1,2,3,4,5])\n",
        "print(np_array)\n",
        "type(np_array)"
      ],
      "execution_count": 7,
      "outputs": [
        {
          "output_type": "stream",
          "text": [
            "[1 2 3 4 5]\n"
          ],
          "name": "stdout"
        },
        {
          "output_type": "execute_result",
          "data": {
            "text/plain": [
              "numpy.ndarray"
            ]
          },
          "metadata": {
            "tags": []
          },
          "execution_count": 7
        }
      ]
    },
    {
      "cell_type": "markdown",
      "metadata": {
        "id": "bBjXF7dbqLMq"
      },
      "source": [
        ""
      ]
    },
    {
      "cell_type": "markdown",
      "metadata": {
        "id": "b5rL-cQpqN3r"
      },
      "source": [
        ""
      ]
    },
    {
      "cell_type": "markdown",
      "metadata": {
        "id": "aLnxycEOZkx8"
      },
      "source": [
        "Creating 1 Dimensional Array"
      ]
    },
    {
      "cell_type": "code",
      "metadata": {
        "id": "iNpYGUFveNjH",
        "colab": {
          "base_uri": "https://localhost:8080/"
        },
        "outputId": "859fb109-15a1-44d4-8beb-faef4b604f5f"
      },
      "source": [
        "a=np.array([1,2,4,5])\n",
        "print(a)"
      ],
      "execution_count": 8,
      "outputs": [
        {
          "output_type": "stream",
          "text": [
            "[1 2 4 5]\n"
          ],
          "name": "stdout"
        }
      ]
    },
    {
      "cell_type": "code",
      "metadata": {
        "id": "tq-NJEcoipec",
        "colab": {
          "base_uri": "https://localhost:8080/"
        },
        "outputId": "f367d205-7eb1-4cc1-bc0e-49533a4b66cd"
      },
      "source": [
        "b=np.array([(1,2,3,4),(5,6,7,8)])\n",
        "print(b)"
      ],
      "execution_count": 9,
      "outputs": [
        {
          "output_type": "stream",
          "text": [
            "[[1 2 3 4]\n",
            " [5 6 7 8]]\n"
          ],
          "name": "stdout"
        }
      ]
    },
    {
      "cell_type": "code",
      "metadata": {
        "id": "XRhNgXGToA7U",
        "colab": {
          "base_uri": "https://localhost:8080/"
        },
        "outputId": "6836bf14-192f-4051-e5f3-0c68c1954b96"
      },
      "source": [
        "c=np.array([(1,2,3,4),(5,6,7,8)],dtype='float')\n",
        "print(c)"
      ],
      "execution_count": 10,
      "outputs": [
        {
          "output_type": "stream",
          "text": [
            "[[1. 2. 3. 4.]\n",
            " [5. 6. 7. 8.]]\n"
          ],
          "name": "stdout"
        }
      ]
    },
    {
      "cell_type": "code",
      "metadata": {
        "id": "IOABTZZPlWMh",
        "colab": {
          "base_uri": "https://localhost:8080/"
        },
        "outputId": "40bcfb48-8132-4d35-9139-f1655ce5e4eb"
      },
      "source": [
        "b.shape"
      ],
      "execution_count": 11,
      "outputs": [
        {
          "output_type": "execute_result",
          "data": {
            "text/plain": [
              "(2, 4)"
            ]
          },
          "metadata": {
            "tags": []
          },
          "execution_count": 11
        }
      ]
    },
    {
      "cell_type": "markdown",
      "metadata": {
        "id": "I_LpucpRqPp9"
      },
      "source": [
        "Initialize Placeholder in Numpy Array"
      ]
    },
    {
      "cell_type": "code",
      "metadata": {
        "colab": {
          "base_uri": "https://localhost:8080/"
        },
        "id": "3w9y3Zsjqbro",
        "outputId": "abe0b14a-3782-4e70-f749-c6aa21b84318"
      },
      "source": [
        "x=np.zeros((4,5))\n",
        "print(x)\n",
        "\n"
      ],
      "execution_count": 12,
      "outputs": [
        {
          "output_type": "stream",
          "text": [
            "[[0. 0. 0. 0. 0.]\n",
            " [0. 0. 0. 0. 0.]\n",
            " [0. 0. 0. 0. 0.]\n",
            " [0. 0. 0. 0. 0.]]\n"
          ],
          "name": "stdout"
        }
      ]
    },
    {
      "cell_type": "code",
      "metadata": {
        "colab": {
          "base_uri": "https://localhost:8080/"
        },
        "id": "FSm29frJFooN",
        "outputId": "a7915a6d-2ce5-40e1-8c89-bb4543b11cd9"
      },
      "source": [
        "y=np.ones((3,3))\n",
        "print(y)"
      ],
      "execution_count": 13,
      "outputs": [
        {
          "output_type": "stream",
          "text": [
            "[[1. 1. 1.]\n",
            " [1. 1. 1.]\n",
            " [1. 1. 1.]]\n"
          ],
          "name": "stdout"
        }
      ]
    },
    {
      "cell_type": "markdown",
      "metadata": {
        "id": "n4tWXROLG3oO"
      },
      "source": [
        "Array of Particular Value"
      ]
    },
    {
      "cell_type": "code",
      "metadata": {
        "colab": {
          "base_uri": "https://localhost:8080/"
        },
        "id": "Ec6QmxV7HWeY",
        "outputId": "418834bd-15cd-4189-d850-f3acc77f3af6"
      },
      "source": [
        "z=np.full((4,5),5)\n",
        "print(z)"
      ],
      "execution_count": 14,
      "outputs": [
        {
          "output_type": "stream",
          "text": [
            "[[5 5 5 5 5]\n",
            " [5 5 5 5 5]\n",
            " [5 5 5 5 5]\n",
            " [5 5 5 5 5]]\n"
          ],
          "name": "stdout"
        }
      ]
    },
    {
      "cell_type": "code",
      "metadata": {
        "colab": {
          "base_uri": "https://localhost:8080/"
        },
        "id": "7zx7hK9-KMgc",
        "outputId": "f39ace66-33cc-44de-b924-e7d6f19b42b9"
      },
      "source": [
        "a=np.eye(5)\n",
        "print(a)"
      ],
      "execution_count": 15,
      "outputs": [
        {
          "output_type": "stream",
          "text": [
            "[[1. 0. 0. 0. 0.]\n",
            " [0. 1. 0. 0. 0.]\n",
            " [0. 0. 1. 0. 0.]\n",
            " [0. 0. 0. 1. 0.]\n",
            " [0. 0. 0. 0. 1.]]\n"
          ],
          "name": "stdout"
        }
      ]
    },
    {
      "cell_type": "markdown",
      "metadata": {
        "id": "p66bLAzyeCH-"
      },
      "source": [
        "Create A Numpy Array with Random Values"
      ]
    },
    {
      "cell_type": "code",
      "metadata": {
        "colab": {
          "base_uri": "https://localhost:8080/"
        },
        "id": "JOCYPNZGeIN9",
        "outputId": "439ab13e-998a-4be5-9789-4d90807d3f29"
      },
      "source": [
        "b=np.random.random((3,4))\n",
        "print(b)"
      ],
      "execution_count": 16,
      "outputs": [
        {
          "output_type": "stream",
          "text": [
            "[[0.21381061 0.04742996 0.9619353  0.10242288]\n",
            " [0.58899337 0.93591036 0.53599194 0.98489639]\n",
            " [0.07989482 0.61253059 0.85192146 0.15215778]]\n"
          ],
          "name": "stdout"
        }
      ]
    },
    {
      "cell_type": "markdown",
      "metadata": {
        "id": "UeLAVpy_f7tT"
      },
      "source": [
        "random Integer value array within a specific Range"
      ]
    },
    {
      "cell_type": "code",
      "metadata": {
        "colab": {
          "base_uri": "https://localhost:8080/"
        },
        "id": "qclW0idCgDEG",
        "outputId": "32a549b8-c222-4559-894a-c3611447ce8b"
      },
      "source": [
        "b=np.random.randint(10,100,(3,5))\n",
        "print(b)"
      ],
      "execution_count": 18,
      "outputs": [
        {
          "output_type": "stream",
          "text": [
            "[[51 18 77 12 52]\n",
            " [21 50 55 13 91]\n",
            " [43 34 74 84 30]]\n"
          ],
          "name": "stdout"
        }
      ]
    },
    {
      "cell_type": "markdown",
      "metadata": {
        "id": "HGhEzz_ijljF"
      },
      "source": [
        "Array of Evenly spaced Values--->specifying the number of Values\n"
      ]
    },
    {
      "cell_type": "code",
      "metadata": {
        "colab": {
          "base_uri": "https://localhost:8080/"
        },
        "id": "kN3Td9cNjpHj",
        "outputId": "b6c26988-542b-400d-b0a5-09d386b20e7f"
      },
      "source": [
        "d=np.linspace(10,30,5)\n",
        "print(d)"
      ],
      "execution_count": 19,
      "outputs": [
        {
          "output_type": "stream",
          "text": [
            "[10. 15. 20. 25. 30.]\n"
          ],
          "name": "stdout"
        }
      ]
    },
    {
      "cell_type": "code",
      "metadata": {
        "colab": {
          "base_uri": "https://localhost:8080/"
        },
        "id": "uRU7t5GXkHis",
        "outputId": "db64f0b7-3369-4b6b-835f-5dc12645179b"
      },
      "source": [
        "d=np.linspace(10,30,6)\n",
        "print(d)"
      ],
      "execution_count": 23,
      "outputs": [
        {
          "output_type": "stream",
          "text": [
            "[10. 14. 18. 22. 26. 30.]\n"
          ],
          "name": "stdout"
        }
      ]
    },
    {
      "cell_type": "markdown",
      "metadata": {
        "id": "mXMp8TjVk6od"
      },
      "source": [
        "Array of Evenly spaced Values--->specifying the Steps\n"
      ]
    },
    {
      "cell_type": "code",
      "metadata": {
        "colab": {
          "base_uri": "https://localhost:8080/"
        },
        "id": "xnxTp3pXkIHn",
        "outputId": "9844239c-5e8a-4dcb-d848-4107aa1eede2"
      },
      "source": [
        "e=np.arange(10,30,5)\n",
        "print(e)"
      ],
      "execution_count": 24,
      "outputs": [
        {
          "output_type": "stream",
          "text": [
            "[10 15 20 25]\n"
          ],
          "name": "stdout"
        }
      ]
    },
    {
      "cell_type": "markdown",
      "metadata": {
        "id": "2DyLMAL5udGm"
      },
      "source": [
        "Convert list toa an Numpy Array\n"
      ]
    },
    {
      "cell_type": "code",
      "metadata": {
        "colab": {
          "base_uri": "https://localhost:8080/"
        },
        "id": "1Kl-TWPEugIR",
        "outputId": "57dcf27e-c11c-4b01-86db-a405436b19b9"
      },
      "source": [
        "list2=[1,2,3,4,5]\n",
        "np_array=np.asarray(list2)\n",
        "print(np_array)\n",
        "type(np_array)"
      ],
      "execution_count": 26,
      "outputs": [
        {
          "output_type": "stream",
          "text": [
            "[1 2 3 4 5]\n"
          ],
          "name": "stdout"
        },
        {
          "output_type": "execute_result",
          "data": {
            "text/plain": [
              "numpy.ndarray"
            ]
          },
          "metadata": {
            "tags": []
          },
          "execution_count": 26
        }
      ]
    },
    {
      "cell_type": "markdown",
      "metadata": {
        "id": "tALiuNzjvT7M"
      },
      "source": [
        "Analysing A Numpy Array\n"
      ]
    },
    {
      "cell_type": "code",
      "metadata": {
        "colab": {
          "base_uri": "https://localhost:8080/"
        },
        "id": "hedXpkVHvXpw",
        "outputId": "f46befb7-1001-4931-afe7-4543cd716abc"
      },
      "source": [
        "c=np.random.randint(10,90,(5,5))\n",
        "print(c)"
      ],
      "execution_count": 28,
      "outputs": [
        {
          "output_type": "stream",
          "text": [
            "[[35 17 18 33 17]\n",
            " [35 37 51 34 54]\n",
            " [77 86 42 76 32]\n",
            " [31 78 40 84 15]\n",
            " [37 55 37 40 59]]\n"
          ],
          "name": "stdout"
        }
      ]
    },
    {
      "cell_type": "code",
      "metadata": {
        "colab": {
          "base_uri": "https://localhost:8080/"
        },
        "id": "GiF2BuMuv8fr",
        "outputId": "f1d168ed-c480-4503-abfa-005eab83afa8"
      },
      "source": [
        "print(c.shape)"
      ],
      "execution_count": 29,
      "outputs": [
        {
          "output_type": "stream",
          "text": [
            "(5, 5)\n"
          ],
          "name": "stdout"
        }
      ]
    },
    {
      "cell_type": "code",
      "metadata": {
        "colab": {
          "base_uri": "https://localhost:8080/"
        },
        "id": "X-JXH9KxwHyC",
        "outputId": "0e855950-8f8f-432a-dc7f-aec9e95de0e5"
      },
      "source": [
        "print(c.ndim)"
      ],
      "execution_count": 30,
      "outputs": [
        {
          "output_type": "stream",
          "text": [
            "2\n"
          ],
          "name": "stdout"
        }
      ]
    },
    {
      "cell_type": "markdown",
      "metadata": {
        "id": "lETwX0zAwWXN"
      },
      "source": [
        "Number of Elements in An Array\n"
      ]
    },
    {
      "cell_type": "code",
      "metadata": {
        "colab": {
          "base_uri": "https://localhost:8080/"
        },
        "id": "Ro-pqQBfwaGy",
        "outputId": "d0ec67a7-8822-4204-e47e-38795c6e1281"
      },
      "source": [
        "print(c.size)"
      ],
      "execution_count": 31,
      "outputs": [
        {
          "output_type": "stream",
          "text": [
            "25\n"
          ],
          "name": "stdout"
        }
      ]
    },
    {
      "cell_type": "markdown",
      "metadata": {
        "id": "uUa-175iws2M"
      },
      "source": [
        "Checking the Datatypes of the values in the Array"
      ]
    },
    {
      "cell_type": "code",
      "metadata": {
        "colab": {
          "base_uri": "https://localhost:8080/"
        },
        "id": "Ns5uMvFWwyr_",
        "outputId": "a43a5559-5109-4445-e24e-25078cd9199f"
      },
      "source": [
        "print(c.dtype)\n"
      ],
      "execution_count": 32,
      "outputs": [
        {
          "output_type": "stream",
          "text": [
            "int64\n"
          ],
          "name": "stdout"
        }
      ]
    },
    {
      "cell_type": "markdown",
      "metadata": {
        "id": "jMKoMnqbxGDC"
      },
      "source": [
        "Methematical Operations on np Array"
      ]
    },
    {
      "cell_type": "code",
      "metadata": {
        "colab": {
          "base_uri": "https://localhost:8080/"
        },
        "id": "O8qYBaLBxJev",
        "outputId": "eba1bb83-14ab-4fba-abeb-46df72153a19"
      },
      "source": [
        "list1=[1,2,3,4,5]\n",
        "list2=[6,7,8,9,10]\n",
        "print(list1 + list2)"
      ],
      "execution_count": 33,
      "outputs": [
        {
          "output_type": "stream",
          "text": [
            "[1, 2, 3, 4, 5, 6, 7, 8, 9, 10]\n"
          ],
          "name": "stdout"
        }
      ]
    },
    {
      "cell_type": "code",
      "metadata": {
        "colab": {
          "base_uri": "https://localhost:8080/"
        },
        "id": "KqbAjo8PyAez",
        "outputId": "b88ba9b0-79ba-4d0f-f839-3dd3e4ec59bd"
      },
      "source": [
        "a=np.random.randint(0,10,(3,3))\n",
        "b=np.random.randint(10,20,(3,3))\n",
        "print(a)\n",
        "print(b)"
      ],
      "execution_count": 34,
      "outputs": [
        {
          "output_type": "stream",
          "text": [
            "[[4 0 0]\n",
            " [3 7 7]\n",
            " [4 0 2]]\n",
            "[[17 14 11]\n",
            " [15 11 14]\n",
            " [13 12 18]]\n"
          ],
          "name": "stdout"
        }
      ]
    },
    {
      "cell_type": "code",
      "metadata": {
        "colab": {
          "base_uri": "https://localhost:8080/"
        },
        "id": "m9NXrpoIyP6E",
        "outputId": "830a0414-2f17-4344-fbdd-e1236e447d3d"
      },
      "source": [
        "print(a + b)"
      ],
      "execution_count": 35,
      "outputs": [
        {
          "output_type": "stream",
          "text": [
            "[[21 14 11]\n",
            " [18 18 21]\n",
            " [17 12 20]]\n"
          ],
          "name": "stdout"
        }
      ]
    },
    {
      "cell_type": "code",
      "metadata": {
        "colab": {
          "base_uri": "https://localhost:8080/"
        },
        "id": "dD2jUCbxytUX",
        "outputId": "871d4a0f-16c3-475b-d36d-ef1b94985965"
      },
      "source": [
        "print(a - b)"
      ],
      "execution_count": 36,
      "outputs": [
        {
          "output_type": "stream",
          "text": [
            "[[-13 -14 -11]\n",
            " [-12  -4  -7]\n",
            " [ -9 -12 -16]]\n"
          ],
          "name": "stdout"
        }
      ]
    },
    {
      "cell_type": "code",
      "metadata": {
        "colab": {
          "base_uri": "https://localhost:8080/"
        },
        "id": "wPY-mkwvyve6",
        "outputId": "5fe9088f-38f4-489c-808b-e641096f6a48"
      },
      "source": [
        "print(a * b)"
      ],
      "execution_count": 37,
      "outputs": [
        {
          "output_type": "stream",
          "text": [
            "[[68  0  0]\n",
            " [45 77 98]\n",
            " [52  0 36]]\n"
          ],
          "name": "stdout"
        }
      ]
    },
    {
      "cell_type": "code",
      "metadata": {
        "colab": {
          "base_uri": "https://localhost:8080/"
        },
        "id": "3OKDSykry0yY",
        "outputId": "cb5eee22-a8d9-4d95-80a6-a4cc7d26f3f9"
      },
      "source": [
        "print(a/b)"
      ],
      "execution_count": 38,
      "outputs": [
        {
          "output_type": "stream",
          "text": [
            "[[0.23529412 0.         0.        ]\n",
            " [0.2        0.63636364 0.5       ]\n",
            " [0.30769231 0.         0.11111111]]\n"
          ],
          "name": "stdout"
        }
      ]
    },
    {
      "cell_type": "code",
      "metadata": {
        "colab": {
          "base_uri": "https://localhost:8080/"
        },
        "id": "pODYrWVGzUYH",
        "outputId": "52c8f570-e024-440b-f27b-58a06551ed47"
      },
      "source": [
        "print(np.add(a,b))"
      ],
      "execution_count": 39,
      "outputs": [
        {
          "output_type": "stream",
          "text": [
            "[[21 14 11]\n",
            " [18 18 21]\n",
            " [17 12 20]]\n"
          ],
          "name": "stdout"
        }
      ]
    },
    {
      "cell_type": "code",
      "metadata": {
        "colab": {
          "base_uri": "https://localhost:8080/"
        },
        "id": "Xz2hoEX0zpEv",
        "outputId": "86292763-e8c7-4193-a393-c2449c3b5020"
      },
      "source": [
        "print(np.subtract(a,b))"
      ],
      "execution_count": 40,
      "outputs": [
        {
          "output_type": "stream",
          "text": [
            "[[-13 -14 -11]\n",
            " [-12  -4  -7]\n",
            " [ -9 -12 -16]]\n"
          ],
          "name": "stdout"
        }
      ]
    },
    {
      "cell_type": "code",
      "metadata": {
        "colab": {
          "base_uri": "https://localhost:8080/"
        },
        "id": "FgAU7oujzvZQ",
        "outputId": "8c131cdc-bc93-4781-e0cd-4d5d3ad73617"
      },
      "source": [
        "print(np.multiply(a,b))"
      ],
      "execution_count": 41,
      "outputs": [
        {
          "output_type": "stream",
          "text": [
            "[[68  0  0]\n",
            " [45 77 98]\n",
            " [52  0 36]]\n"
          ],
          "name": "stdout"
        }
      ]
    },
    {
      "cell_type": "code",
      "metadata": {
        "colab": {
          "base_uri": "https://localhost:8080/"
        },
        "id": "DZobklJBz4yt",
        "outputId": "4994142d-ade0-49a0-d774-a54924f069cc"
      },
      "source": [
        "print(np.divide(a,b))"
      ],
      "execution_count": 42,
      "outputs": [
        {
          "output_type": "stream",
          "text": [
            "[[0.23529412 0.         0.        ]\n",
            " [0.2        0.63636364 0.5       ]\n",
            " [0.30769231 0.         0.11111111]]\n"
          ],
          "name": "stdout"
        }
      ]
    },
    {
      "cell_type": "markdown",
      "metadata": {
        "id": "YaxR2z6Z0Our"
      },
      "source": [
        "Array Manipulation"
      ]
    },
    {
      "cell_type": "code",
      "metadata": {
        "colab": {
          "base_uri": "https://localhost:8080/"
        },
        "id": "h0_lx9yK0ReL",
        "outputId": "948c7af5-c4e0-4d2f-ca29-8e6f0281fb14"
      },
      "source": [
        "array=np.random.randint(0,10,(2,3))\n",
        "print(array)\n",
        "print(array.shape)"
      ],
      "execution_count": 45,
      "outputs": [
        {
          "output_type": "stream",
          "text": [
            "[[8 9 9]\n",
            " [6 0 8]]\n",
            "(2, 3)\n"
          ],
          "name": "stdout"
        }
      ]
    },
    {
      "cell_type": "markdown",
      "metadata": {
        "id": "kJxkgbNO0qVG"
      },
      "source": [
        "Transpose\n"
      ]
    },
    {
      "cell_type": "code",
      "metadata": {
        "colab": {
          "base_uri": "https://localhost:8080/"
        },
        "id": "a4VOX1Zu0sSH",
        "outputId": "11f9772c-dd10-450d-ffac-0f3e33510f51"
      },
      "source": [
        "trans=np.transpose(array)\n",
        "print(trans)\n",
        "print(trans.shape)"
      ],
      "execution_count": 46,
      "outputs": [
        {
          "output_type": "stream",
          "text": [
            "[[8 6]\n",
            " [9 0]\n",
            " [9 8]]\n",
            "(3, 2)\n"
          ],
          "name": "stdout"
        }
      ]
    },
    {
      "cell_type": "code",
      "metadata": {
        "colab": {
          "base_uri": "https://localhost:8080/"
        },
        "id": "hFJpm4W91T9z",
        "outputId": "d2b0bbac-2e7e-4a76-cc76-b9a7ab038321"
      },
      "source": [
        "array=np.random.randint(0,10,(2,3))\n",
        "print(array)\n",
        "print(array.shape)"
      ],
      "execution_count": 47,
      "outputs": [
        {
          "output_type": "stream",
          "text": [
            "[[6 6 6]\n",
            " [7 1 5]]\n",
            "(2, 3)\n"
          ],
          "name": "stdout"
        }
      ]
    },
    {
      "cell_type": "code",
      "metadata": {
        "colab": {
          "base_uri": "https://localhost:8080/"
        },
        "id": "R8vgJsKl1iz1",
        "outputId": "429d9492-a134-480e-898b-0382b5c975f5"
      },
      "source": [
        "trans2=array.T\n",
        "print(trans)\n",
        "print(trans2.shape)"
      ],
      "execution_count": 48,
      "outputs": [
        {
          "output_type": "stream",
          "text": [
            "[[8 6]\n",
            " [9 0]\n",
            " [9 8]]\n",
            "(3, 2)\n"
          ],
          "name": "stdout"
        }
      ]
    },
    {
      "cell_type": "markdown",
      "metadata": {
        "id": "2PYIpkSu1z7K"
      },
      "source": [
        "Reshaping An Array\n"
      ]
    },
    {
      "cell_type": "code",
      "metadata": {
        "colab": {
          "base_uri": "https://localhost:8080/"
        },
        "id": "tLi704ZD12Rd",
        "outputId": "a79457a8-5a01-487e-8844-945ff101db49"
      },
      "source": [
        "a=np.random.randint(0,10,(2,3))\n",
        "print(a)\n",
        "print(a.shape)"
      ],
      "execution_count": 49,
      "outputs": [
        {
          "output_type": "stream",
          "text": [
            "[[8 4 7]\n",
            " [3 3 2]]\n",
            "(2, 3)\n"
          ],
          "name": "stdout"
        }
      ]
    },
    {
      "cell_type": "code",
      "metadata": {
        "colab": {
          "base_uri": "https://localhost:8080/"
        },
        "id": "pAD8MuuX2O5w",
        "outputId": "663d1524-0a7f-49c0-985c-c1a7954fb64e"
      },
      "source": [
        "b=a.reshape(3,2)\n",
        "print(b)\n",
        "print(b.shape)"
      ],
      "execution_count": 51,
      "outputs": [
        {
          "output_type": "stream",
          "text": [
            "[[8 4]\n",
            " [7 3]\n",
            " [3 2]]\n",
            "(3, 2)\n"
          ],
          "name": "stdout"
        }
      ]
    }
  ]
}